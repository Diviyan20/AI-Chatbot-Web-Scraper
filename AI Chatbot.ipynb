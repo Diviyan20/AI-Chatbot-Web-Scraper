{
 "cells": [
  {
   "cell_type": "code",
   "execution_count": null,
   "id": "c4250aac-74c8-4399-85be-fc1dca7a8c20",
   "metadata": {},
   "outputs": [],
   "source": [
    "import os\n",
    "import gradio as gr\n",
    "import requests\n",
    "import re\n",
    "from bs4 import BeautifulSoup\n",
    "from openai import OpenAI\n",
    "from dotenv import load_dotenv"
   ]
  },
  {
   "cell_type": "code",
   "execution_count": null,
   "id": "eae6b494-92a7-4270-ba24-b63c7919f023",
   "metadata": {},
   "outputs": [],
   "source": [
    "load_dotenv(override=True)\n",
    "openai_api_key= os.getenv('OPENAI_API_KEY')\n",
    "\n",
    "if openai_api_key:\n",
    "    print(\"API Key looks good so far\")\n",
    "else:\n",
    "    print(\"API Key does not exist\")\n",
    "\n",
    "openai = OpenAI(api_key=openai_api_key)\n",
    "MODEL = 'gpt-4o-mini'"
   ]
  },
  {
   "cell_type": "code",
   "execution_count": null,
   "id": "8e518556-e49e-4f33-81ff-2b466e822f5e",
   "metadata": {},
   "outputs": [],
   "source": [
    "system_message = (\n",
    "    \"You are a helpful AI assistant. \"\n",
    "    \"You can analyze websites and summarize their content if provided a URL. \"\n",
    "    \"Always respond in clean, well-structured markdown.\"\n",
    ")"
   ]
  },
  {
   "cell_type": "code",
   "execution_count": null,
   "id": "3167be54-3c6d-4e1c-a9c3-85d6d7d0e569",
   "metadata": {},
   "outputs": [],
   "source": [
    "def scrape_website(url):\n",
    "    try:\n",
    "        response = requests.get(url, timeout=10)\n",
    "        response.raise_for_status()\n",
    "    except requests.exceptions.RequestException:\n",
    "        return None, \"⚠️ Failed to fetch website.\"\n",
    "\n",
    "    soup = BeautifulSoup(response.content, \"html.parser\")\n",
    "    title = soup.title.string.strip() if soup.title else \"No title found\"\n",
    "\n",
    "    if soup.body:\n",
    "        for irrelevant in soup.body([\"script\", \"style\", \"img\", \"input\"]):\n",
    "            irrelevant.decompose()\n",
    "        text = soup.body.get_text(separator=\"\\n\", strip=True)\n",
    "    else:\n",
    "        text = \"No readable content found.\"\n",
    "\n",
    "    return title, text"
   ]
  },
  {
   "cell_type": "code",
   "execution_count": null,
   "id": "883ffb0c-15ca-4977-870a-0c098ff03fe2",
   "metadata": {},
   "outputs": [],
   "source": [
    "def chat(message, history):\n",
    "    \"\"\"Main chatbot function\"\"\"\n",
    "    messages = [{\"role\": \"system\", \"content\": system_message}] + history\n",
    "\n",
    "    url_pattern = r\"^(https?://[^\\s]+)$\"\n",
    "    if re.match(url_pattern, message.strip()):\n",
    "        # If input is a URL → scrape website\n",
    "        title, text = scrape_website(message.strip())\n",
    "\n",
    "        if text.startswith(\"⚠️ Failed\"):\n",
    "            yield \"⚠️ Could not fetch the website. Try another URL.\"\n",
    "            return\n",
    "\n",
    "        # Build a custom GPT prompt to analyze the website\n",
    "        prompt = f\"Analyze and summarize the following website:\\n\\n**Title:** {title}\\n\\n{text}\"\n",
    "        messages.append({\"role\": \"user\", \"content\": prompt})\n",
    "    else:\n",
    "        # Otherwise, treat as normal chatbot message\n",
    "        messages.append({\"role\": \"user\", \"content\": message})\n",
    "\n",
    "    # Stream GPT response\n",
    "    stream = openai.chat.completions.create(\n",
    "        model=MODEL,\n",
    "        messages=messages,\n",
    "        stream=True\n",
    "    )\n",
    "\n",
    "    result = \"\"\n",
    "    for chunk in stream:\n",
    "        result += chunk.choices[0].delta.content or \"\"\n",
    "        yield result"
   ]
  },
  {
   "cell_type": "code",
   "execution_count": null,
   "id": "8ae807b7-0bce-41ac-8b40-0976ffa0132b",
   "metadata": {},
   "outputs": [],
   "source": [
    "gr.ChatInterface(\n",
    "    fn=chat,\n",
    "    type=\"messages\",\n",
    "    title=\"🤖 AI Chatbot + Web Scraper\",\n",
    "    description=\"Ask anything OR provide a URL, and I'll fetch & analyze it in real-time!\"\n",
    ").launch()"
   ]
  },
  {
   "cell_type": "code",
   "execution_count": null,
   "id": "208b3115-b66c-476e-840c-99e27815f651",
   "metadata": {},
   "outputs": [],
   "source": []
  }
 ],
 "metadata": {
  "kernelspec": {
   "display_name": "Python 3 (ipykernel)",
   "language": "python",
   "name": "python3"
  },
  "language_info": {
   "codemirror_mode": {
    "name": "ipython",
    "version": 3
   },
   "file_extension": ".py",
   "mimetype": "text/x-python",
   "name": "python",
   "nbconvert_exporter": "python",
   "pygments_lexer": "ipython3",
   "version": "3.13.5"
  }
 },
 "nbformat": 4,
 "nbformat_minor": 5
}
